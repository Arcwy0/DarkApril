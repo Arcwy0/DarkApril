{
 "cells": [
  {
   "cell_type": "code",
   "execution_count": 22,
   "metadata": {},
   "outputs": [],
   "source": [
    "import collections\n",
    "collections.Iterable = collections.abc.Iterable\n",
    "import time\n",
    "import multiprocessing as mp\n",
    "import dill as pickle\n",
    "import sys\n",
    "import urx\n",
    "import numpy as np\n",
    "import math\n",
    "import threading\n",
    "import io\n",
    "import socket\n",
    "import struct\n",
    "from PIL import Image\n",
    "import cv2\n",
    "import numpy\n",
    "import pupil_apriltags as apriltag\n",
    "import time\n",
    "from scipy.spatial.transform import Rotation as R\n",
    "import transforms3d"
   ]
  },
  {
   "cell_type": "code",
   "execution_count": 2,
   "metadata": {},
   "outputs": [],
   "source": [
    "tag = False\n",
    "tag_pose = []"
   ]
  },
  {
   "cell_type": "code",
   "execution_count": 4,
   "metadata": {},
   "outputs": [],
   "source": [
    "def coord_receiver(connection,detector,camera_params,tag_size,robot,goal,home,accuracy):\n",
    "    global tag,tag_pose,threads_active\n",
    "    print(\"coord_reciever thread started\")\n",
    "    \n",
    "    while threads_active:\n",
    "        image_len = struct.unpack(\n",
    "            '<L', connection.read(struct.calcsize('<L')))[0]\n",
    "        # print('I am here')\n",
    "        if not image_len:\n",
    "            break\n",
    "        image_stream = io.BytesIO()\n",
    "        image_stream.write(connection.read(image_len))\n",
    "        image_stream.seek(0)\n",
    "        image = Image.open(image_stream)\n",
    "        opencvImage = cv2.cvtColor(numpy.array(image), cv2.COLOR_RGB2BGR)\n",
    "        gray = cv2.cvtColor(opencvImage, cv2.COLOR_BGR2GRAY)\n",
    "        result = detector.detect(\n",
    "            gray, estimate_tag_pose=True, camera_params=camera_params, tag_size=tag_size)\n",
    "\n",
    "        if result:\n",
    "            tag = True\n",
    "            tag_pose = result[0].pose_t\n",
    "            print('coords=',tag_pose)\n",
    "        else:\n",
    "            tag=False\n",
    "            tag_pose = []\n",
    "        cv2.imshow('Image', opencvImage)\n",
    "\n",
    "        current_rob_pose = robot.getl()\n",
    "        diff = -np.array(current_rob_pose[:3])+np.array(goal[:3])\n",
    "        v = diff/np.max(np.abs(diff))*0.01\n",
    "        robot.speedl((v[0],v[1],v[2],0,0,0),0.05,1)\n",
    "        distance = np.linalg.norm(diff)\n",
    "\n",
    "        if distance <=accuracy:\n",
    "            robot.speedl((0,0,0,0,0,0),0.05,1)\n",
    "            threads_active = False\n",
    "\n",
    "        if tag and np.linalg.norm(tag_pose) < 0.2:\n",
    "            print('COLLISION')\n",
    "            robot.speedl((0,0,0,0,0,0),0.05,1)\n",
    "            robot.movel((home[0],home[1],home[2],home[3],home[4],home[5]),0.01,0.01)\n",
    "            threads_active = False\n",
    "        key = cv2.waitKey(1) & 0xFF\n",
    "\n",
    "        if key == ord('q'):\n",
    "            threads_active = False\n",
    "        time.sleep(0.01)\n",
    "\n",
    "        \n"
   ]
  },
  {
   "cell_type": "code",
   "execution_count": 5,
   "metadata": {},
   "outputs": [],
   "source": [
    "def manip_control(robot,goal,home,accuracy, conn):\n",
    "    print(\"manip_control process started\")\n",
    "    while True:\n",
    "        current_rob_pose = robot.getl()\n",
    "        diff = -np.array(current_rob_pose[:3])+np.array(goal[:3])\n",
    "        v = diff/np.max(np.abs(diff))*0.01\n",
    "        robot.speedl((v[0],v[1],v[2],0,0,0),0.05,1)\n",
    "        distance = np.linalg.norm(diff)\n",
    "\n",
    "        if distance <=accuracy:\n",
    "            robot.speedl((0,0,0,0,0,0),0.05,1)\n",
    "            threads_active = False\n",
    "\n",
    "        if conn.recv == 1:\n",
    "            print('Recieved collision')\n",
    "            robot.speedl((0,0,0,0,0,0),0.05,1)\n",
    "            robot.movel((home[0],home[1],home[2],home[3],home[4],home[5]),0.01,0.01)\n",
    "            break\n",
    "            \n",
    "        time.sleep(0.01)\n",
    "\n",
    "        "
   ]
  },
  {
   "cell_type": "code",
   "execution_count": 6,
   "metadata": {},
   "outputs": [],
   "source": [
    "def camera_control(connection,detector,camera_params,tag_size,conn):\n",
    "    print(\"camera control process started\")\n",
    "    \n",
    "    while True:\n",
    "        image_len = struct.unpack(\n",
    "            '<L', connection.read(struct.calcsize('<L')))[0]\n",
    "        # print('I am here')\n",
    "        if not image_len:\n",
    "            break\n",
    "        image_stream = io.BytesIO()\n",
    "        image_stream.write(connection.read(image_len))\n",
    "        image_stream.seek(0)\n",
    "        image = Image.open(image_stream)\n",
    "        opencvImage = cv2.cvtColor(numpy.array(image), cv2.COLOR_RGB2BGR)\n",
    "        gray = cv2.cvtColor(opencvImage, cv2.COLOR_BGR2GRAY)\n",
    "        result = detector.detect(\n",
    "            gray, estimate_tag_pose=True, camera_params=camera_params, tag_size=tag_size)\n",
    "\n",
    "        if result:\n",
    "            tag = True\n",
    "            tag_pose = result[0].pose_t\n",
    "            print('coords=',tag_pose)\n",
    "        else:\n",
    "            tag=False\n",
    "            tag_pose = []\n",
    "        cv2.imshow('Image', opencvImage)\n",
    "\n",
    "        if tag and np.linalg.norm(tag_pose) < 0.45:\n",
    "            value = 1\n",
    "            conn.send(value)\n",
    "            print('COLLISION Sent')\n",
    "\n",
    "        key = cv2.waitKey(1) & 0xFF\n",
    "        if key == ord('q'):\n",
    "            break\n",
    "        time.sleep(0.01)"
   ]
  },
  {
   "cell_type": "code",
   "execution_count": 7,
   "metadata": {},
   "outputs": [],
   "source": [
    "camera_params = (506.19083684, 508.36108854,\n",
    "                 317.93111342, 243.12403806)\n",
    "tag_size = 0.0375\n",
    "\n",
    "server_socket = socket.socket()\n",
    "server_socket.bind(('0.0.0.0', 8000))\n",
    "server_socket.listen(0)\n",
    "connection = server_socket.accept()[0].makefile('rb')\n",
    "accuracy = 0.001\n",
    "\n",
    "detector = apriltag.Detector(\n",
    "    families='tag36h11',\n",
    "    nthreads=10,\n",
    "    quad_decimate=0.5,\n",
    "    quad_sigma=0,\n",
    "    refine_edges=1,\n",
    "    decode_sharpening=0.6,\n",
    "    debug=0)\n",
    "\n"
   ]
  },
  {
   "cell_type": "code",
   "execution_count": 8,
   "metadata": {},
   "outputs": [],
   "source": [
    "rob = urx.Robot('192.168.88.60')\n",
    "home = [-0.297,\n",
    " -0.142,\n",
    " 0.49,\n",
    " 0.11,\n",
    " -1.52,\n",
    " 0.19]\n",
    "goal = [-0.41,\n",
    " -0.142,\n",
    " 0.49,\n",
    " 0.11,\n",
    " -1.52,\n",
    " 0.19]"
   ]
  },
  {
   "cell_type": "code",
   "execution_count": 9,
   "metadata": {},
   "outputs": [
    {
     "data": {
      "text/plain": [
       "[-0.29696666600238064,\n",
       " -0.1419906208945608,\n",
       " 0.4900338966987312,\n",
       " 0.10998329973002305,\n",
       " -1.5198010561478614,\n",
       " 0.18986932065226]"
      ]
     },
     "execution_count": 9,
     "metadata": {},
     "output_type": "execute_result"
    }
   ],
   "source": [
    "rob.getl()"
   ]
  },
  {
   "cell_type": "code",
   "execution_count": 20,
   "metadata": {},
   "outputs": [
    {
     "ename": "TypeError",
     "evalue": "cannot pickle '_io.BufferedReader' object",
     "output_type": "error",
     "traceback": [
      "\u001b[1;31m---------------------------------------------------------------------------\u001b[0m",
      "\u001b[1;31mTypeError\u001b[0m                                 Traceback (most recent call last)",
      "Cell \u001b[1;32mIn[20], line 8\u001b[0m\n\u001b[0;32m      2\u001b[0m conn1, conn2 \u001b[39m=\u001b[39m mp\u001b[39m.\u001b[39mPipe()\n\u001b[0;32m      3\u001b[0m camera_control_process \u001b[39m=\u001b[39m mp\u001b[39m.\u001b[39mProcess(\n\u001b[0;32m      4\u001b[0m target\u001b[39m=\u001b[39mcamera_control,\n\u001b[0;32m      5\u001b[0m daemon\u001b[39m=\u001b[39m\u001b[39mTrue\u001b[39;00m,\n\u001b[0;32m      6\u001b[0m args\u001b[39m=\u001b[39m(connection,detector,camera_params,tag_size,conn2)\n\u001b[0;32m      7\u001b[0m )\n\u001b[1;32m----> 8\u001b[0m camera_control_process\u001b[39m.\u001b[39;49mstart()\n\u001b[0;32m     10\u001b[0m manip_control_process \u001b[39m=\u001b[39m mp\u001b[39m.\u001b[39mProcess(\n\u001b[0;32m     11\u001b[0m     target\u001b[39m=\u001b[39mmanip_control,\n\u001b[0;32m     12\u001b[0m     daemon\u001b[39m=\u001b[39m\u001b[39mTrue\u001b[39;00m,\n\u001b[0;32m     13\u001b[0m     args\u001b[39m=\u001b[39m(rob,goal,home,accuracy,conn1)\n\u001b[0;32m     14\u001b[0m )\n\u001b[0;32m     15\u001b[0m manip_control_process\u001b[39m.\u001b[39mstart()\n",
      "File \u001b[1;32mc:\\Users\\denis\\AppData\\Local\\Programs\\Python\\Python310\\lib\\multiprocessing\\process.py:121\u001b[0m, in \u001b[0;36mBaseProcess.start\u001b[1;34m(self)\u001b[0m\n\u001b[0;32m    118\u001b[0m \u001b[39massert\u001b[39;00m \u001b[39mnot\u001b[39;00m _current_process\u001b[39m.\u001b[39m_config\u001b[39m.\u001b[39mget(\u001b[39m'\u001b[39m\u001b[39mdaemon\u001b[39m\u001b[39m'\u001b[39m), \\\n\u001b[0;32m    119\u001b[0m        \u001b[39m'\u001b[39m\u001b[39mdaemonic processes are not allowed to have children\u001b[39m\u001b[39m'\u001b[39m\n\u001b[0;32m    120\u001b[0m _cleanup()\n\u001b[1;32m--> 121\u001b[0m \u001b[39mself\u001b[39m\u001b[39m.\u001b[39m_popen \u001b[39m=\u001b[39m \u001b[39mself\u001b[39;49m\u001b[39m.\u001b[39;49m_Popen(\u001b[39mself\u001b[39;49m)\n\u001b[0;32m    122\u001b[0m \u001b[39mself\u001b[39m\u001b[39m.\u001b[39m_sentinel \u001b[39m=\u001b[39m \u001b[39mself\u001b[39m\u001b[39m.\u001b[39m_popen\u001b[39m.\u001b[39msentinel\n\u001b[0;32m    123\u001b[0m \u001b[39m# Avoid a refcycle if the target function holds an indirect\u001b[39;00m\n\u001b[0;32m    124\u001b[0m \u001b[39m# reference to the process object (see bpo-30775)\u001b[39;00m\n",
      "File \u001b[1;32mc:\\Users\\denis\\AppData\\Local\\Programs\\Python\\Python310\\lib\\multiprocessing\\context.py:224\u001b[0m, in \u001b[0;36mProcess._Popen\u001b[1;34m(process_obj)\u001b[0m\n\u001b[0;32m    222\u001b[0m \u001b[39m@staticmethod\u001b[39m\n\u001b[0;32m    223\u001b[0m \u001b[39mdef\u001b[39;00m \u001b[39m_Popen\u001b[39m(process_obj):\n\u001b[1;32m--> 224\u001b[0m     \u001b[39mreturn\u001b[39;00m _default_context\u001b[39m.\u001b[39;49mget_context()\u001b[39m.\u001b[39;49mProcess\u001b[39m.\u001b[39;49m_Popen(process_obj)\n",
      "File \u001b[1;32mc:\\Users\\denis\\AppData\\Local\\Programs\\Python\\Python310\\lib\\multiprocessing\\context.py:336\u001b[0m, in \u001b[0;36mSpawnProcess._Popen\u001b[1;34m(process_obj)\u001b[0m\n\u001b[0;32m    333\u001b[0m \u001b[39m@staticmethod\u001b[39m\n\u001b[0;32m    334\u001b[0m \u001b[39mdef\u001b[39;00m \u001b[39m_Popen\u001b[39m(process_obj):\n\u001b[0;32m    335\u001b[0m     \u001b[39mfrom\u001b[39;00m \u001b[39m.\u001b[39;00m\u001b[39mpopen_spawn_win32\u001b[39;00m \u001b[39mimport\u001b[39;00m Popen\n\u001b[1;32m--> 336\u001b[0m     \u001b[39mreturn\u001b[39;00m Popen(process_obj)\n",
      "File \u001b[1;32mc:\\Users\\denis\\AppData\\Local\\Programs\\Python\\Python310\\lib\\multiprocessing\\popen_spawn_win32.py:93\u001b[0m, in \u001b[0;36mPopen.__init__\u001b[1;34m(self, process_obj)\u001b[0m\n\u001b[0;32m     91\u001b[0m \u001b[39mtry\u001b[39;00m:\n\u001b[0;32m     92\u001b[0m     reduction\u001b[39m.\u001b[39mdump(prep_data, to_child)\n\u001b[1;32m---> 93\u001b[0m     reduction\u001b[39m.\u001b[39;49mdump(process_obj, to_child)\n\u001b[0;32m     94\u001b[0m \u001b[39mfinally\u001b[39;00m:\n\u001b[0;32m     95\u001b[0m     set_spawning_popen(\u001b[39mNone\u001b[39;00m)\n",
      "File \u001b[1;32mc:\\Users\\denis\\AppData\\Local\\Programs\\Python\\Python310\\lib\\multiprocessing\\reduction.py:60\u001b[0m, in \u001b[0;36mdump\u001b[1;34m(obj, file, protocol)\u001b[0m\n\u001b[0;32m     58\u001b[0m \u001b[39mdef\u001b[39;00m \u001b[39mdump\u001b[39m(obj, file, protocol\u001b[39m=\u001b[39m\u001b[39mNone\u001b[39;00m):\n\u001b[0;32m     59\u001b[0m \u001b[39m    \u001b[39m\u001b[39m'''Replacement for pickle.dump() using ForkingPickler.'''\u001b[39;00m\n\u001b[1;32m---> 60\u001b[0m     ForkingPickler(file, protocol)\u001b[39m.\u001b[39;49mdump(obj)\n",
      "\u001b[1;31mTypeError\u001b[0m: cannot pickle '_io.BufferedReader' object"
     ]
    }
   ],
   "source": [
    "threads_active=True\n",
    "conn1, conn2 = mp.Pipe()\n",
    "camera_control_process = mp.Process(\n",
    "target=camera_control,\n",
    "daemon=True,\n",
    "args=(connection,detector,camera_params,tag_size,conn2)\n",
    ")\n",
    "camera_control_process.start()\n",
    "\n",
    "manip_control_process = mp.Process(\n",
    "    target=manip_control,\n",
    "    daemon=True,\n",
    "    args=(rob,goal,home,accuracy,conn1)\n",
    ")\n",
    "manip_control_process.start()\n",
    "\n",
    "#let's see if it works\n",
    "manip_control_process.join()\n",
    "camera_control_process.join()"
   ]
  },
  {
   "cell_type": "code",
   "execution_count": null,
   "metadata": {},
   "outputs": [],
   "source": [
    "threads_active=False\n",
    "connection.close()"
   ]
  },
  {
   "cell_type": "code",
   "execution_count": null,
   "metadata": {},
   "outputs": [],
   "source": [
    "rob.movel(goal,0.05,0.01)"
   ]
  },
  {
   "cell_type": "code",
   "execution_count": null,
   "metadata": {},
   "outputs": [],
   "source": []
  }
 ],
 "metadata": {
  "kernelspec": {
   "display_name": "base",
   "language": "python",
   "name": "python3"
  },
  "language_info": {
   "codemirror_mode": {
    "name": "ipython",
    "version": 3
   },
   "file_extension": ".py",
   "mimetype": "text/x-python",
   "name": "python",
   "nbconvert_exporter": "python",
   "pygments_lexer": "ipython3",
   "version": "3.10.9"
  },
  "orig_nbformat": 4
 },
 "nbformat": 4,
 "nbformat_minor": 2
}
