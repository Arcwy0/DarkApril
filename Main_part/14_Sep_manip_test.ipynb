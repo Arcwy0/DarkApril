{
 "cells": [
  {
   "cell_type": "code",
   "execution_count": 1,
   "metadata": {},
   "outputs": [],
   "source": [
    "import collections\n",
    "collections.Iterable = collections.abc.Iterable\n",
    "import urx\n",
    "import numpy as np\n",
    "import io\n",
    "import socket\n",
    "import struct\n",
    "from PIL import Image\n",
    "import cv2\n",
    "import numpy\n",
    "import pupil_apriltags as apriltag\n",
    "import time"
   ]
  },
  {
   "cell_type": "code",
   "execution_count": 5,
   "metadata": {},
   "outputs": [
    {
     "name": "stdout",
     "output_type": "stream",
     "text": [
      "Robot connected\n",
      "manip_control process started\n"
     ]
    }
   ],
   "source": [
    "try:\n",
    "    robot = urx.Robot('192.168.88.28')\n",
    "        \n",
    "    print('Robot connected')\n",
    "    print(\"manip_control process started\")\n",
    "except Exception:\n",
    "    print(\"Not connected\")"
   ]
  },
  {
   "cell_type": "code",
   "execution_count": 6,
   "metadata": {},
   "outputs": [],
   "source": [
    "t1 = [0.214,0.731,0.652,0.03,-2.39,-1.93] # center pos\n",
    "t2 = [0.059,0.818,0.508,0.271,1.997,2.268] # toxic near socker\n",
    "t3 = [0.098,0.962,0.531,0.027,2.234,2.187] # socket\n",
    "t4 = [0.349,0.747,0.636,0.294,-2.083,-1.884] # far from user and safe\n",
    "t5 = [0.162,0.575,0.507,0.115,-1.954,-2.398] # far from socket  \n",
    "\n",
    "waypoints = [t1,t2,t3,t4,t5]"
   ]
  },
  {
   "cell_type": "code",
   "execution_count": 11,
   "metadata": {},
   "outputs": [
    {
     "name": "stderr",
     "output_type": "stream",
     "text": [
      "Exception in thread Thread-8:\n",
      "Traceback (most recent call last):\n",
      "  File \"c:\\Users\\sense\\AppData\\Local\\Programs\\Python\\Python310\\lib\\threading.py\", line 1016, in _bootstrap_inner\n",
      "    self.run()\n",
      "  File \"c:\\Users\\sense\\AppData\\Local\\Programs\\Python\\Python310\\lib\\site-packages\\urx\\ursecmon.py\", line 291, in run\n",
      "    data = self._get_data()\n",
      "  File \"c:\\Users\\sense\\AppData\\Local\\Programs\\Python\\Python310\\lib\\site-packages\\urx\\ursecmon.py\", line 338, in _get_data\n",
      "    tmp = self._s_secondary.recv(1024)\n",
      "TimeoutError: timed out\n"
     ]
    }
   ],
   "source": [
    "robot.movel(t5,0.018,0.02,wait=False)"
   ]
  },
  {
   "cell_type": "code",
   "execution_count": null,
   "metadata": {},
   "outputs": [],
   "source": [
    "i = 0\n",
    "while True:\n",
    "    \n",
    "    current_position = np.array(robot.getl())\n",
    "    time.sleep(0.1)\n",
    "\n",
    "    print(waypoints[i%len(waypoints)])\n",
    "    robot.movel(waypoints[i % len(waypoints)],0.018,0.05,wait=False)\n",
    "    while True:\n",
    "        current_position = np.array(robot.getl())\n",
    "        time.sleep(0.1)\n",
    "        if not robot.is_program_running():\n",
    "            break\n",
    "    i+=1"
   ]
  }
 ],
 "metadata": {
  "kernelspec": {
   "display_name": "Python 3",
   "language": "python",
   "name": "python3"
  },
  "language_info": {
   "codemirror_mode": {
    "name": "ipython",
    "version": 3
   },
   "file_extension": ".py",
   "mimetype": "text/x-python",
   "name": "python",
   "nbconvert_exporter": "python",
   "pygments_lexer": "ipython3",
   "version": "3.10.10"
  }
 },
 "nbformat": 4,
 "nbformat_minor": 2
}
