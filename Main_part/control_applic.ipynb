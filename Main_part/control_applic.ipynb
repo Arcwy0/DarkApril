{
 "cells": [
  {
   "cell_type": "code",
   "execution_count": 1,
   "metadata": {},
   "outputs": [],
   "source": [
    "import collections\n",
    "collections.Iterable = collections.abc.Iterable\n",
    "import time\n",
    "import sys\n",
    "import urx\n",
    "import numpy as np\n",
    "import math\n",
    "import threading\n",
    "import io\n",
    "import socket\n",
    "import struct\n",
    "from PIL import Image\n",
    "import cv2\n",
    "import numpy\n",
    "import pupil_apriltags as apriltag\n",
    "import time\n",
    "from scipy.spatial.transform import Rotation as R\n",
    "import transforms3d"
   ]
  },
  {
   "cell_type": "code",
   "execution_count": 2,
   "metadata": {},
   "outputs": [],
   "source": [
    "tag = False\n",
    "tag_pose = []"
   ]
  },
  {
   "cell_type": "code",
   "execution_count": 3,
   "metadata": {},
   "outputs": [],
   "source": [
    "def coord_receiver(connection,detector,camera_params,tag_size,robot,goal,home,accuracy):\n",
    "    global tag,tag_pose,threads_active\n",
    "    print(\"coord_reciever thread started\")\n",
    "    i = 0\n",
    "    while threads_active:\n",
    "        i += 1\n",
    "        image_len = struct.unpack(\n",
    "            '<L', connection.read(struct.calcsize('<L')))[0]\n",
    "        # print('I am here')\n",
    "        if not image_len:\n",
    "            break\n",
    "        image_stream = io.BytesIO()\n",
    "        image_stream.write(connection.read(image_len))\n",
    "        image_stream.seek(0)\n",
    "        image = Image.open(image_stream)\n",
    "        opencvImage = cv2.cvtColor(numpy.array(image), cv2.COLOR_RGB2BGR)\n",
    "        gray = cv2.cvtColor(opencvImage, cv2.COLOR_BGR2GRAY)\n",
    "        result = detector.detect(\n",
    "            gray, estimate_tag_pose=True, camera_params=camera_params, tag_size=tag_size)\n",
    "        cv2.imshow('im',opencvImage)\n",
    "\n",
    "        current_rob_pose = robot.getl()\n",
    "        diff = -np.array(current_rob_pose[:3])+np.array(goal[:3])\n",
    "        v = diff/np.max(np.abs(diff))*0.01\n",
    "        robot.speedl((v[0],v[1],v[2],0,0,0),0.05,1)\n",
    "        distance = np.linalg.norm(diff)\n",
    "\n",
    "        if distance <=accuracy:\n",
    "            robot.speedl((0,0,0,0,0,0),0.05,1)\n",
    "            threads_active = False\n",
    "\n",
    "        if result and np.linalg.norm(result[0].pose_t) < 0.35:\n",
    "            print('COLLISION')\n",
    "            robot.speedl((0,0,0,0,0,0),0.05,1)\n",
    "            robot.movel((home[0],home[1],home[2],home[3],home[4],home[5]),0.01,0.01)\n",
    "            threads_active = False\n",
    "        key = cv2.waitKey(10) & 0xFF\n",
    "\n",
    "        if key == ord('q'):\n",
    "            threads_active = False\n",
    "\n",
    "        \n"
   ]
  },
  {
   "cell_type": "code",
   "execution_count": 4,
   "metadata": {},
   "outputs": [],
   "source": [
    "camera_params = (506.19083684, 508.36108854,\n",
    "                 317.93111342, 243.12403806)\n",
    "tag_size = 0.0375\n",
    "\n",
    "UDP_IP = \"127.0.0.1\"\n",
    "UDP_PORT = 5065\n",
    "sock = socket.socket(socket.AF_INET, socket.SOCK_DGRAM)\n",
    "sock = socket.socket(socket.AF_INET, socket.SOCK_DGRAM)\n",
    "server_socket = socket.socket()\n",
    "server_socket.bind(('0.0.0.0', 8000))\n",
    "server_socket.listen(0)\n",
    "connection = server_socket.accept()[0].makefile('rb')\n",
    "\n",
    "accuracy = 0.001\n",
    "\n",
    "detector = apriltag.Detector(\n",
    "    families='tag36h11',\n",
    "    nthreads=10,\n",
    "    quad_decimate=0.5,\n",
    "    quad_sigma=0,\n",
    "    refine_edges=1,\n",
    "    decode_sharpening=0.6,\n",
    "    debug=0)\n",
    "\n"
   ]
  },
  {
   "cell_type": "code",
   "execution_count": 5,
   "metadata": {},
   "outputs": [],
   "source": [
    "rob = urx.Robot('192.168.88.60')\n",
    "home = [-0.297,\n",
    " -0.142,\n",
    " 0.49,\n",
    " 0.11,\n",
    " -1.52,\n",
    " 0.19]\n",
    "goal = [-0.43,\n",
    " -0.142,\n",
    " 0.49,\n",
    " 0.11,\n",
    " -1.52,\n",
    " 0.19]"
   ]
  },
  {
   "cell_type": "code",
   "execution_count": 6,
   "metadata": {},
   "outputs": [
    {
     "data": {
      "text/plain": [
       "[-0.2969454121424089,\n",
       " -0.1419955301769424,\n",
       " 0.49007065595804217,\n",
       " 0.10998178043588865,\n",
       " -1.519838379616969,\n",
       " 0.18988991748146059]"
      ]
     },
     "execution_count": 6,
     "metadata": {},
     "output_type": "execute_result"
    }
   ],
   "source": [
    "rob.getl()"
   ]
  },
  {
   "cell_type": "code",
   "execution_count": 7,
   "metadata": {},
   "outputs": [
    {
     "name": "stdout",
     "output_type": "stream",
     "text": [
      "coord_reciever thread started\n"
     ]
    }
   ],
   "source": [
    "threads_active=True\n",
    "coord_rec_thread = threading.Thread(\n",
    "target=coord_receiver,\n",
    "daemon=True,\n",
    "args=(connection,detector,camera_params,tag_size,rob,home,goal,accuracy)\n",
    ")\n",
    "coord_rec_thread.start()"
   ]
  },
  {
   "cell_type": "code",
   "execution_count": null,
   "metadata": {},
   "outputs": [],
   "source": [
    "coord_rec_thread.join()"
   ]
  },
  {
   "cell_type": "code",
   "execution_count": 8,
   "metadata": {},
   "outputs": [
    {
     "name": "stdout",
     "output_type": "stream",
     "text": [
      "coord_reciever thread started\n"
     ]
    }
   ],
   "source": [
    "\n",
    "threads_active=True\n",
    "coord_rec_thread = threading.Thread(\n",
    "target=coord_receiver,\n",
    "daemon=True,\n",
    "args=(connection,detector,camera_params,tag_size,rob,goal,home,accuracy)\n",
    ")\n",
    "coord_rec_thread.start()"
   ]
  },
  {
   "cell_type": "code",
   "execution_count": 8,
   "metadata": {},
   "outputs": [],
   "source": [
    "threads_active=False\n",
    "connection.close()\n"
   ]
  },
  {
   "cell_type": "code",
   "execution_count": 19,
   "metadata": {},
   "outputs": [
    {
     "data": {
      "text/plain": [
       "<Transform:\n",
       "<Orientation: \n",
       "array([[ 0.03965884, -0.19215043, -0.98056381],\n",
       "       [ 0.05521701,  0.98025778, -0.18985721],\n",
       "       [ 0.99768645, -0.04661429,  0.04948586]])>\n",
       "<Vector: (-0.41007, -0.14197, 0.48994)>\n",
       ">"
      ]
     },
     "execution_count": 19,
     "metadata": {},
     "output_type": "execute_result"
    }
   ],
   "source": [
    "rob.movel(goal,0.05,0.01)"
   ]
  },
  {
   "cell_type": "code",
   "execution_count": 9,
   "metadata": {},
   "outputs": [
    {
     "data": {
      "text/plain": [
       "<Transform:\n",
       "<Orientation: \n",
       "array([[ 0.03996381, -0.19206053, -0.98056904],\n",
       "       [ 0.05519772,  0.98027884, -0.18975406],\n",
       "       [ 0.99767535, -0.04654188,  0.04977698]])>\n",
       "<Vector: (-0.29702, -0.14199, 0.49000)>\n",
       ">"
      ]
     },
     "execution_count": 9,
     "metadata": {},
     "output_type": "execute_result"
    }
   ],
   "source": [
    "rob.movel(home,0.05,0.01)"
   ]
  },
  {
   "cell_type": "code",
   "execution_count": 3,
   "metadata": {},
   "outputs": [
    {
     "name": "stdout",
     "output_type": "stream",
     "text": [
      "2\n"
     ]
    }
   ],
   "source": [
    "cos = -np.sqrt(2)/2\n",
    "sin = np.sqrt(2)/2\n",
    "theta = np.arctan2(sin,cos)\n",
    "theta = np.rad2deg(theta)\n",
    "theta = int(theta)\n",
    "print(theta)"
   ]
  }
 ],
 "metadata": {
  "kernelspec": {
   "display_name": "base",
   "language": "python",
   "name": "python3"
  },
  "language_info": {
   "codemirror_mode": {
    "name": "ipython",
    "version": 3
   },
   "file_extension": ".py",
   "mimetype": "text/x-python",
   "name": "python",
   "nbconvert_exporter": "python",
   "pygments_lexer": "ipython3",
   "version": "3.11.1"
  },
  "orig_nbformat": 4
 },
 "nbformat": 4,
 "nbformat_minor": 2
}
