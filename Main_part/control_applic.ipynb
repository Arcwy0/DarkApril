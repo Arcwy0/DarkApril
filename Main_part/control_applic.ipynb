{
 "cells": [
  {
   "cell_type": "code",
   "execution_count": 1,
   "metadata": {},
   "outputs": [],
   "source": [
    "import time\n",
    "import sys\n",
    "import urx\n",
    "import numpy as np\n",
    "import math\n",
    "import threading\n",
    "import io\n",
    "import socket\n",
    "import struct\n",
    "from PIL import Image\n",
    "import cv2\n",
    "import numpy\n",
    "import pupil_apriltags as apriltag\n",
    "import time\n",
    "from scipy.spatial.transform import Rotation as R\n",
    "import transforms3d"
   ]
  },
  {
   "cell_type": "code",
   "execution_count": 2,
   "metadata": {},
   "outputs": [],
   "source": [
    "tag = False\n",
    "tag_pose = []"
   ]
  },
  {
   "cell_type": "code",
   "execution_count": 3,
   "metadata": {},
   "outputs": [],
   "source": [
    "def coord_receiver(connection,detector,camera_params,tag_size,robot,goal,home,accuracy):\n",
    "    global tag,tag_pose,threads_active\n",
    "    print(\"coord_reciever thread started\")\n",
    "    \n",
    "    while threads_active:\n",
    "        image_len = struct.unpack(\n",
    "            '<L', connection.read(struct.calcsize('<L')))[0]\n",
    "        # print('I am here')\n",
    "        if not image_len:\n",
    "            break\n",
    "        image_stream = io.BytesIO()\n",
    "        image_stream.write(connection.read(image_len))\n",
    "        image_stream.seek(0)\n",
    "        image = Image.open(image_stream)\n",
    "        opencvImage = cv2.cvtColor(numpy.array(image), cv2.COLOR_RGB2BGR)\n",
    "        gray = cv2.cvtColor(opencvImage, cv2.COLOR_BGR2GRAY)\n",
    "        result = detector.detect(\n",
    "            gray, estimate_tag_pose=True, camera_params=camera_params, tag_size=tag_size)\n",
    "\n",
    "        if result:\n",
    "            tag = True\n",
    "            tag_pose = result[0].pose_t\n",
    "            print('coords=',tag_pose)\n",
    "        else:\n",
    "            tag=False\n",
    "            tag_pose = []\n",
    "        cv2.imshow('Image', opencvImage)\n",
    "\n",
    "        current_rob_pose = robot.getl()\n",
    "        diff = np.array(current_rob_pose[:3])-np.array(goal)\n",
    "        v = diff/np.max(np.abs(diff))*0.02\n",
    "        robot.speedl((v[0],v[1],v[2],0,0,0),0.05,1)\n",
    "        distance = np.linalg.norm(diff)\n",
    "\n",
    "        if distance <=accuracy:\n",
    "            rob.speedl((0,0,0,0,0,0),0.05,1)\n",
    "            threads_active = False\n",
    "\n",
    "        if tag and np.linalg.norm(tag_pose) < 0.2:\n",
    "            print('COLLISION')\n",
    "            robot.speedl((0,0,0,0,0,0),0.05,1)\n",
    "            robot.movel((home[0],home[1],home[2],home[3],home[4],home[5]),0.01,0.01)\n",
    "            threads_active = False\n",
    "        key = cv2.waitKey(1) & 0xFF\n",
    "\n",
    "\n",
    "\n",
    "\n",
    "\n",
    "        if key == ord('q'):\n",
    "            threads_active = False\n",
    "        \n",
    "\n",
    "        \n"
   ]
  },
  {
   "cell_type": "code",
   "execution_count": 4,
   "metadata": {},
   "outputs": [
    {
     "ename": "FileNotFoundError",
     "evalue": "Could not find module 'c:\\Users\\denis\\anaconda3\\lib\\site-packages\\pupil_apriltags\\lib\\apriltag.dll' (or one of its dependencies). Try using the full path with constructor syntax.",
     "output_type": "error",
     "traceback": [
      "\u001b[1;31m---------------------------------------------------------------------------\u001b[0m",
      "\u001b[1;31mFileNotFoundError\u001b[0m                         Traceback (most recent call last)",
      "Cell \u001b[1;32mIn[4], line 16\u001b[0m\n\u001b[0;32m      5\u001b[0m \u001b[39m# UDP_IP = \"127.0.0.1\"\u001b[39;00m\n\u001b[0;32m      6\u001b[0m \u001b[39m# UDP_PORT = 5065\u001b[39;00m\n\u001b[0;32m      7\u001b[0m \u001b[39m# sock = socket.socket(socket.AF_INET, socket.SOCK_DGRAM)\u001b[39;00m\n\u001b[1;32m   (...)\u001b[0m\n\u001b[0;32m     11\u001b[0m \u001b[39m# server_socket.listen(0)\u001b[39;00m\n\u001b[0;32m     12\u001b[0m \u001b[39m# connection = server_socket.accept()[0].makefile('rb')\u001b[39;00m\n\u001b[0;32m     14\u001b[0m accuracy \u001b[39m=\u001b[39m \u001b[39m0.001\u001b[39m\n\u001b[1;32m---> 16\u001b[0m detector \u001b[39m=\u001b[39m apriltag\u001b[39m.\u001b[39;49mDetector(\n\u001b[0;32m     17\u001b[0m     families\u001b[39m=\u001b[39;49m\u001b[39m'\u001b[39;49m\u001b[39mtag36h11\u001b[39;49m\u001b[39m'\u001b[39;49m,\n\u001b[0;32m     18\u001b[0m     nthreads\u001b[39m=\u001b[39;49m\u001b[39m10\u001b[39;49m,\n\u001b[0;32m     19\u001b[0m     quad_decimate\u001b[39m=\u001b[39;49m\u001b[39m0.5\u001b[39;49m,\n\u001b[0;32m     20\u001b[0m     quad_sigma\u001b[39m=\u001b[39;49m\u001b[39m0\u001b[39;49m,\n\u001b[0;32m     21\u001b[0m     refine_edges\u001b[39m=\u001b[39;49m\u001b[39m1\u001b[39;49m,\n\u001b[0;32m     22\u001b[0m     decode_sharpening\u001b[39m=\u001b[39;49m\u001b[39m0.6\u001b[39;49m,\n\u001b[0;32m     23\u001b[0m     debug\u001b[39m=\u001b[39;49m\u001b[39m0\u001b[39;49m)\n",
      "File \u001b[1;32mc:\\Users\\denis\\anaconda3\\lib\\site-packages\\pupil_apriltags\\bindings.py:337\u001b[0m, in \u001b[0;36mDetector.__init__\u001b[1;34m(self, families, nthreads, quad_decimate, quad_sigma, refine_edges, decode_sharpening, debug, searchpath)\u001b[0m\n\u001b[0;32m    335\u001b[0m     \u001b[39mif\u001b[39;00m sys\u001b[39m.\u001b[39mversion_info \u001b[39m>\u001b[39m\u001b[39m=\u001b[39m (\u001b[39m3\u001b[39m, \u001b[39m8\u001b[39m):\n\u001b[0;32m    336\u001b[0m         dll_dir \u001b[39m=\u001b[39m os\u001b[39m.\u001b[39madd_dll_directory(dll_path)\n\u001b[1;32m--> 337\u001b[0m \u001b[39mself\u001b[39m\u001b[39m.\u001b[39mlibc \u001b[39m=\u001b[39m ctypes\u001b[39m.\u001b[39;49mCDLL(\u001b[39mstr\u001b[39;49m(hit),winmode\u001b[39m=\u001b[39;49m\u001b[39m0\u001b[39;49m)\n\u001b[0;32m    338\u001b[0m \u001b[39mif\u001b[39;00m \u001b[39mself\u001b[39m\u001b[39m.\u001b[39mlibc:\n\u001b[0;32m    339\u001b[0m     logger\u001b[39m.\u001b[39mdebug(\u001b[39mf\u001b[39m\u001b[39m\"\u001b[39m\u001b[39mFound working clib at \u001b[39m\u001b[39m{\u001b[39;00mhit\u001b[39m}\u001b[39;00m\u001b[39m\"\u001b[39m)\n",
      "File \u001b[1;32mc:\\Users\\denis\\anaconda3\\lib\\ctypes\\__init__.py:382\u001b[0m, in \u001b[0;36mCDLL.__init__\u001b[1;34m(self, name, mode, handle, use_errno, use_last_error, winmode)\u001b[0m\n\u001b[0;32m    379\u001b[0m \u001b[39mself\u001b[39m\u001b[39m.\u001b[39m_FuncPtr \u001b[39m=\u001b[39m _FuncPtr\n\u001b[0;32m    381\u001b[0m \u001b[39mif\u001b[39;00m handle \u001b[39mis\u001b[39;00m \u001b[39mNone\u001b[39;00m:\n\u001b[1;32m--> 382\u001b[0m     \u001b[39mself\u001b[39m\u001b[39m.\u001b[39m_handle \u001b[39m=\u001b[39m _dlopen(\u001b[39mself\u001b[39;49m\u001b[39m.\u001b[39;49m_name, mode)\n\u001b[0;32m    383\u001b[0m \u001b[39melse\u001b[39;00m:\n\u001b[0;32m    384\u001b[0m     \u001b[39mself\u001b[39m\u001b[39m.\u001b[39m_handle \u001b[39m=\u001b[39m handle\n",
      "\u001b[1;31mFileNotFoundError\u001b[0m: Could not find module 'c:\\Users\\denis\\anaconda3\\lib\\site-packages\\pupil_apriltags\\lib\\apriltag.dll' (or one of its dependencies). Try using the full path with constructor syntax."
     ]
    }
   ],
   "source": [
    "camera_params = (506.19083684, 508.36108854,\n",
    "                 317.93111342, 243.12403806)\n",
    "tag_size = 0.0375\n",
    "\n",
    "# UDP_IP = \"127.0.0.1\"\n",
    "# UDP_PORT = 5065\n",
    "# sock = socket.socket(socket.AF_INET, socket.SOCK_DGRAM)\n",
    "# sock = socket.socket(socket.AF_INET, socket.SOCK_DGRAM)\n",
    "# server_socket = socket.socket()\n",
    "# server_socket.bind(('0.0.0.0', 8000))\n",
    "# server_socket.listen(0)\n",
    "# connection = server_socket.accept()[0].makefile('rb')\n",
    "\n",
    "accuracy = 0.001\n",
    "\n",
    "detector = apriltag.Detector(\n",
    "    families='tag36h11',\n",
    "    nthreads=10,\n",
    "    quad_decimate=0.5,\n",
    "    quad_sigma=0,\n",
    "    refine_edges=1,\n",
    "    decode_sharpening=0.6,\n",
    "    debug=0)\n",
    "\n"
   ]
  },
  {
   "cell_type": "code",
   "execution_count": 6,
   "metadata": {},
   "outputs": [],
   "source": [
    "rob = urx.Robot('192.168.88.60')\n",
    "home = [-0.314,0.107,0.483,-0.013, -1.55, 0.029]\n",
    "goal = [-0.414,0.107,0.483,-0.013, -1.55, 0.029]"
   ]
  },
  {
   "cell_type": "code",
   "execution_count": 8,
   "metadata": {},
   "outputs": [
    {
     "ename": "AttributeError",
     "evalue": "module 'collections' has no attribute 'Iterable'",
     "output_type": "error",
     "traceback": [
      "\u001b[1;31m---------------------------------------------------------------------------\u001b[0m",
      "\u001b[1;31mAttributeError\u001b[0m                            Traceback (most recent call last)",
      "Cell \u001b[1;32mIn[8], line 1\u001b[0m\n\u001b[1;32m----> 1\u001b[0m rob\u001b[39m.\u001b[39;49mgetl()\n",
      "File \u001b[1;32mc:\\Users\\denis\\AppData\\Local\\Programs\\Python\\Python310\\lib\\site-packages\\urx\\robot.py:210\u001b[0m, in \u001b[0;36mRobot.getl\u001b[1;34m(self, wait, _log, roundto)\u001b[0m\n\u001b[0;32m    206\u001b[0m \u001b[39mdef\u001b[39;00m \u001b[39mgetl\u001b[39m(\u001b[39mself\u001b[39m, wait\u001b[39m=\u001b[39m\u001b[39mFalse\u001b[39;00m, _log\u001b[39m=\u001b[39m\u001b[39mTrue\u001b[39;00m, roundto\u001b[39m=\u001b[39m\u001b[39mFalse\u001b[39;00m):\n\u001b[0;32m    207\u001b[0m \u001b[39m    \u001b[39m\u001b[39m\"\"\"\u001b[39;00m\n\u001b[0;32m    208\u001b[0m \u001b[39m    return current transformation from tcp to current csys\u001b[39;00m\n\u001b[0;32m    209\u001b[0m \u001b[39m    \"\"\"\u001b[39;00m\n\u001b[1;32m--> 210\u001b[0m     t \u001b[39m=\u001b[39m \u001b[39mself\u001b[39;49m\u001b[39m.\u001b[39;49mget_pose(wait, _log)\n\u001b[0;32m    211\u001b[0m     pose \u001b[39m=\u001b[39m t\u001b[39m.\u001b[39mpose_vector\u001b[39m.\u001b[39mtolist()\n\u001b[0;32m    212\u001b[0m     \u001b[39mif\u001b[39;00m roundto:\n",
      "File \u001b[1;32mc:\\Users\\denis\\AppData\\Local\\Programs\\Python\\Python310\\lib\\site-packages\\urx\\robot.py:128\u001b[0m, in \u001b[0;36mRobot.get_pose\u001b[1;34m(self, wait, _log)\u001b[0m\n\u001b[0;32m    124\u001b[0m \u001b[39m\u001b[39m\u001b[39m\"\"\"\u001b[39;00m\n\u001b[0;32m    125\u001b[0m \u001b[39mget current transform from base to to tcp\u001b[39;00m\n\u001b[0;32m    126\u001b[0m \u001b[39m\"\"\"\u001b[39;00m\n\u001b[0;32m    127\u001b[0m pose \u001b[39m=\u001b[39m URRobot\u001b[39m.\u001b[39mgetl(\u001b[39mself\u001b[39m, wait, _log)\n\u001b[1;32m--> 128\u001b[0m trans \u001b[39m=\u001b[39m \u001b[39mself\u001b[39;49m\u001b[39m.\u001b[39;49mcsys\u001b[39m.\u001b[39;49minverse \u001b[39m*\u001b[39m m3d\u001b[39m.\u001b[39mTransform(pose)\n\u001b[0;32m    129\u001b[0m \u001b[39mif\u001b[39;00m _log:\n\u001b[0;32m    130\u001b[0m     \u001b[39mself\u001b[39m\u001b[39m.\u001b[39mlogger\u001b[39m.\u001b[39mdebug(\u001b[39m\"\u001b[39m\u001b[39mReturning pose to user: \u001b[39m\u001b[39m%s\u001b[39;00m\u001b[39m\"\u001b[39m, trans\u001b[39m.\u001b[39mpose_vector)\n",
      "File \u001b[1;32mc:\\Users\\denis\\AppData\\Local\\Programs\\Python\\Python310\\lib\\site-packages\\math3d\\transform.py:234\u001b[0m, in \u001b[0;36mTransform.get_inverse\u001b[1;34m(self)\u001b[0m\n\u001b[0;32m    232\u001b[0m \u001b[39mdef\u001b[39;00m \u001b[39mget_inverse\u001b[39m(\u001b[39mself\u001b[39m):\n\u001b[0;32m    233\u001b[0m \u001b[39m    \u001b[39m\u001b[39m\"\"\"Return an inverse of this Transform.\"\"\"\u001b[39;00m\n\u001b[1;32m--> 234\u001b[0m     \u001b[39mreturn\u001b[39;00m Transform(np\u001b[39m.\u001b[39;49mlinalg\u001b[39m.\u001b[39;49minv(\u001b[39mself\u001b[39;49m\u001b[39m.\u001b[39;49m_data))\n",
      "File \u001b[1;32mc:\\Users\\denis\\AppData\\Local\\Programs\\Python\\Python310\\lib\\site-packages\\math3d\\transform.py:98\u001b[0m, in \u001b[0;36mTransform.__init__\u001b[1;34m(self, *args)\u001b[0m\n\u001b[0;32m     96\u001b[0m         \u001b[39mself\u001b[39m\u001b[39m.\u001b[39m_o \u001b[39m=\u001b[39m Orientation(arg\u001b[39m.\u001b[39morient)\n\u001b[0;32m     97\u001b[0m     \u001b[39melse\u001b[39;00m:\n\u001b[1;32m---> 98\u001b[0m         \u001b[39mself\u001b[39;49m\u001b[39m.\u001b[39;49m__create_on_sequence(arg)\n\u001b[0;32m     99\u001b[0m \u001b[39melif\u001b[39;00m \u001b[39mlen\u001b[39m(args) \u001b[39m==\u001b[39m \u001b[39m2\u001b[39m:\n\u001b[0;32m    100\u001b[0m     \u001b[39mself\u001b[39m\u001b[39m.\u001b[39m_o \u001b[39m=\u001b[39m Orientation(args[\u001b[39m0\u001b[39m])\n",
      "File \u001b[1;32mc:\\Users\\denis\\AppData\\Local\\Programs\\Python\\Python310\\lib\\site-packages\\math3d\\transform.py:53\u001b[0m, in \u001b[0;36mTransform.__create_on_sequence\u001b[1;34m(self, arg)\u001b[0m\n\u001b[0;32m     51\u001b[0m     \u001b[39mself\u001b[39m\u001b[39m.\u001b[39m__create_on_sequence(np\u001b[39m.\u001b[39marray(arg))\n\u001b[0;32m     52\u001b[0m \u001b[39melif\u001b[39;00m \u001b[39mtype\u001b[39m(arg) \u001b[39m==\u001b[39m np\u001b[39m.\u001b[39mndarray \u001b[39mand\u001b[39;00m arg\u001b[39m.\u001b[39mshape \u001b[39min\u001b[39;00m ((\u001b[39m4\u001b[39m, \u001b[39m4\u001b[39m), (\u001b[39m3\u001b[39m, \u001b[39m4\u001b[39m)):\n\u001b[1;32m---> 53\u001b[0m     \u001b[39mself\u001b[39m\u001b[39m.\u001b[39m_o \u001b[39m=\u001b[39m Orientation(arg[:\u001b[39m3\u001b[39;49m, :\u001b[39m3\u001b[39;49m])\n\u001b[0;32m     54\u001b[0m     \u001b[39mself\u001b[39m\u001b[39m.\u001b[39m_v \u001b[39m=\u001b[39m Vector(arg[:\u001b[39m3\u001b[39m, \u001b[39m3\u001b[39m])\n\u001b[0;32m     55\u001b[0m \u001b[39melif\u001b[39;00m \u001b[39mtype\u001b[39m(arg) \u001b[39m==\u001b[39m np\u001b[39m.\u001b[39mndarray \u001b[39mand\u001b[39;00m arg\u001b[39m.\u001b[39mshape \u001b[39m==\u001b[39m (\u001b[39m6\u001b[39m,):\n\u001b[0;32m     56\u001b[0m     \u001b[39m# Assume a pose vector of 3 position vector and 3 rotation\u001b[39;00m\n\u001b[0;32m     57\u001b[0m     \u001b[39m# vector components\u001b[39;00m\n",
      "File \u001b[1;32mc:\\Users\\denis\\AppData\\Local\\Programs\\Python\\Python310\\lib\\site-packages\\math3d\\orientation.py:75\u001b[0m, in \u001b[0;36mOrientation.__init__\u001b[1;34m(self, *args)\u001b[0m\n\u001b[0;32m     73\u001b[0m     \u001b[39mself\u001b[39m\u001b[39m.\u001b[39m_data \u001b[39m=\u001b[39m np\u001b[39m.\u001b[39midentity(\u001b[39m3\u001b[39m)\n\u001b[0;32m     74\u001b[0m     \u001b[39mself\u001b[39m\u001b[39m.\u001b[39mrotation_vector \u001b[39m=\u001b[39m arg\n\u001b[1;32m---> 75\u001b[0m \u001b[39melif\u001b[39;00m utils\u001b[39m.\u001b[39;49mis_sequence(arg):\n\u001b[0;32m     76\u001b[0m     \u001b[39mself\u001b[39m\u001b[39m.\u001b[39m__create_on_sequence(arg)\n\u001b[0;32m     77\u001b[0m \u001b[39melse\u001b[39;00m:\n",
      "File \u001b[1;32mc:\\Users\\denis\\AppData\\Local\\Programs\\Python\\Python310\\lib\\site-packages\\math3d\\utils.py:51\u001b[0m, in \u001b[0;36mis_sequence\u001b[1;34m(obj)\u001b[0m\n\u001b[0;32m     49\u001b[0m \u001b[39mdef\u001b[39;00m \u001b[39mis_sequence\u001b[39m(obj):\n\u001b[0;32m     50\u001b[0m \u001b[39m    \u001b[39m\u001b[39m\"\"\"Test if \"obj\" is a sequence.\"\"\"\u001b[39;00m\n\u001b[1;32m---> 51\u001b[0m     \u001b[39mreturn\u001b[39;00m \u001b[39misinstance\u001b[39m(obj, collections\u001b[39m.\u001b[39;49mIterable)\n",
      "\u001b[1;31mAttributeError\u001b[0m: module 'collections' has no attribute 'Iterable'"
     ]
    },
    {
     "name": "stderr",
     "output_type": "stream",
     "text": [
      "Exception in thread Thread-3:\n",
      "Traceback (most recent call last):\n",
      "  File \"c:\\Users\\denis\\AppData\\Local\\Programs\\Python\\Python310\\lib\\threading.py\", line 1016, in _bootstrap_inner\n",
      "    self.run()\n",
      "  File \"c:\\Users\\denis\\AppData\\Local\\Programs\\Python\\Python310\\lib\\site-packages\\urx\\ursecmon.py\", line 291, in run\n",
      "    data = self._get_data()\n",
      "  File \"c:\\Users\\denis\\AppData\\Local\\Programs\\Python\\Python310\\lib\\site-packages\\urx\\ursecmon.py\", line 338, in _get_data\n",
      "    tmp = self._s_secondary.recv(1024)\n",
      "TimeoutError: timed out\n"
     ]
    }
   ],
   "source": [
    "rob.getl()"
   ]
  },
  {
   "cell_type": "code",
   "execution_count": 7,
   "metadata": {},
   "outputs": [
    {
     "name": "stdout",
     "output_type": "stream",
     "text": [
      "coord_reciever thread started\n"
     ]
    },
    {
     "name": "stderr",
     "output_type": "stream",
     "text": [
      "Exception in thread Thread-4 (coord_receiver):\n",
      "Traceback (most recent call last):\n",
      "  File \"c:\\Users\\denis\\AppData\\Local\\Programs\\Python\\Python310\\lib\\threading.py\", line 1016, in _bootstrap_inner\n",
      "    self.run()\n",
      "  File \"c:\\Users\\denis\\AppData\\Local\\Programs\\Python\\Python310\\lib\\threading.py\", line 953, in run\n",
      "    self._target(*self._args, **self._kwargs)\n",
      "  File \"C:\\Users\\denis\\AppData\\Local\\Temp\\ipykernel_19292\\746744183.py\", line 29, in coord_receiver\n",
      "  File \"c:\\Users\\denis\\AppData\\Local\\Programs\\Python\\Python310\\lib\\site-packages\\urx\\robot.py\", line 210, in getl\n",
      "    t = self.get_pose(wait, _log)\n",
      "  File \"c:\\Users\\denis\\AppData\\Local\\Programs\\Python\\Python310\\lib\\site-packages\\urx\\robot.py\", line 128, in get_pose\n",
      "    trans = self.csys.inverse * m3d.Transform(pose)\n",
      "  File \"c:\\Users\\denis\\AppData\\Local\\Programs\\Python\\Python310\\lib\\site-packages\\math3d\\transform.py\", line 234, in get_inverse\n",
      "    return Transform(np.linalg.inv(self._data))\n",
      "  File \"c:\\Users\\denis\\AppData\\Local\\Programs\\Python\\Python310\\lib\\site-packages\\math3d\\transform.py\", line 98, in __init__\n",
      "    self.__create_on_sequence(arg)\n",
      "  File \"c:\\Users\\denis\\AppData\\Local\\Programs\\Python\\Python310\\lib\\site-packages\\math3d\\transform.py\", line 53, in __create_on_sequence\n",
      "    self._o = Orientation(arg[:3, :3])\n",
      "  File \"c:\\Users\\denis\\AppData\\Local\\Programs\\Python\\Python310\\lib\\site-packages\\math3d\\orientation.py\", line 75, in __init__\n",
      "    elif utils.is_sequence(arg):\n",
      "  File \"c:\\Users\\denis\\AppData\\Local\\Programs\\Python\\Python310\\lib\\site-packages\\math3d\\utils.py\", line 51, in is_sequence\n",
      "    return isinstance(obj, collections.Iterable)\n",
      "AttributeError: module 'collections' has no attribute 'Iterable'\n"
     ]
    }
   ],
   "source": [
    "threads_active=True\n",
    "coord_rec_thread = threading.Thread(\n",
    "target=coord_receiver,\n",
    "daemon=True,\n",
    "args=(connection,detector,camera_params,tag_size,rob,goal,home,accuracy)\n",
    ")\n",
    "coord_rec_thread.start()"
   ]
  }
 ],
 "metadata": {
  "kernelspec": {
   "display_name": "base",
   "language": "python",
   "name": "python3"
  },
  "language_info": {
   "codemirror_mode": {
    "name": "ipython",
    "version": 3
   },
   "file_extension": ".py",
   "mimetype": "text/x-python",
   "name": "python",
   "nbconvert_exporter": "python",
   "pygments_lexer": "ipython3",
   "version": "3.9.13"
  },
  "orig_nbformat": 4
 },
 "nbformat": 4,
 "nbformat_minor": 2
}
