{
 "cells": [
  {
   "cell_type": "code",
   "execution_count": 2,
   "metadata": {},
   "outputs": [],
   "source": [
    "import urx\n",
    "import collections\n",
    "collections.Iterable = collections.abc.Iterable"
   ]
  },
  {
   "cell_type": "code",
   "execution_count": 3,
   "metadata": {},
   "outputs": [],
   "source": [
    "rob = urx.Robot('192.168.88.139')"
   ]
  },
  {
   "cell_type": "code",
   "execution_count": 4,
   "metadata": {},
   "outputs": [],
   "source": [
    "t1 = [0.778,-0.305,0.440,1.1635,-4.2655,1.3380]\n",
    "t2 = [0.852,-0.218,0.414,0.164,-3.957,2.137]\n",
    "t3 = [0.85331,-0.24825,0.43377,0.5521,-4.1533,1.4024]\n",
    "t4 = [0.90372,-0.33657,0.50376,1.0226,-4.3088,1.0112]\n",
    "t5 = [0.95154,-0.33621,0.49041,1.2527,-4.2915,1.1339]\n",
    "t6 = [0.82262,-0.37907,0.44094,1.3752,-4.3259,0.9087]"
   ]
  },
  {
   "cell_type": "code",
   "execution_count": 7,
   "metadata": {},
   "outputs": [
    {
     "data": {
      "text/plain": [
       "<Transform:\n",
       "<Orientation: \n",
       "array([[-0.02351812,  0.03416732,  0.99913938],\n",
       "       [-0.54260514,  0.83896399, -0.04146189],\n",
       "       [-0.8396586 , -0.54311327, -0.00119149]])>\n",
       "<Vector: (0.77805, -0.30483, 0.44000)>\n",
       ">"
      ]
     },
     "execution_count": 7,
     "metadata": {},
     "output_type": "execute_result"
    },
    {
     "name": "stderr",
     "output_type": "stream",
     "text": [
      "Robot not running: {'size': 47, 'type': 0, 'timestamp': 2262344000, 'isPhysicalRobotConnected': True, 'isRealRobotEnabled': True, 'isPowerOnRobot': True, 'isEmergencyStopped': False, 'isSecurityStopped': False, 'isProgramRunning': False, 'isProgramPaused': False, 'robotMode': 4, 'controlMode': 0, 'speedFraction': 1.0, 'speedScaling': 0.0, 'speedFractionLimit': 63}\n",
      "Exception in thread Thread-3:\n",
      "Traceback (most recent call last):\n",
      "  File \"c:\\Users\\denis\\AppData\\Local\\Programs\\Python\\Python310\\lib\\threading.py\", line 1016, in _bootstrap_inner\n",
      "    self.run()\n",
      "  File \"c:\\Users\\denis\\AppData\\Local\\Programs\\Python\\Python310\\lib\\site-packages\\urx\\ursecmon.py\", line 291, in run\n",
      "    data = self._get_data()\n",
      "  File \"c:\\Users\\denis\\AppData\\Local\\Programs\\Python\\Python310\\lib\\site-packages\\urx\\ursecmon.py\", line 338, in _get_data\n",
      "    tmp = self._s_secondary.recv(1024)\n",
      "TimeoutError: timed out\n"
     ]
    }
   ],
   "source": [
    "rob.movel(t1,0.01,0.01)"
   ]
  },
  {
   "cell_type": "code",
   "execution_count": 6,
   "metadata": {},
   "outputs": [
    {
     "data": {
      "text/plain": [
       "<Transform:\n",
       "<Orientation: \n",
       "array([[-0.20897464,  0.42544939,  0.88052394],\n",
       "       [-0.50303729,  0.72537822, -0.46987224],\n",
       "       [-0.83861975, -0.54112776,  0.06243125]])>\n",
       "<Vector: (0.85192, -0.21811, 0.41408)>\n",
       ">"
      ]
     },
     "execution_count": 6,
     "metadata": {},
     "output_type": "execute_result"
    }
   ],
   "source": [
    "rob.movel(t2,0.01,0.01)"
   ]
  },
  {
   "cell_type": "code",
   "execution_count": 25,
   "metadata": {},
   "outputs": [
    {
     "data": {
      "text/plain": [
       "<Transform:\n",
       "<Orientation: \n",
       "array([[-0.26962881,  0.15232157,  0.95084091],\n",
       "       [-0.45523049,  0.84994636, -0.26524776],\n",
       "       [-0.84856673, -0.50437022, -0.15982861]])>\n",
       "<Vector: (0.85326, -0.24808, 0.43379)>\n",
       ">"
      ]
     },
     "execution_count": 25,
     "metadata": {},
     "output_type": "execute_result"
    }
   ],
   "source": [
    "rob.movel(t3,0.03,0.03)"
   ]
  },
  {
   "cell_type": "code",
   "execution_count": 26,
   "metadata": {},
   "outputs": [
    {
     "data": {
      "text/plain": [
       "<Transform:\n",
       "<Orientation: \n",
       "array([[-0.10979363, -0.0300129 ,  0.99350117],\n",
       "       [-0.469235  ,  0.88271399, -0.02518992],\n",
       "       [-0.87622136, -0.46895122, -0.11099948]])>\n",
       "<Vector: (0.90366, -0.33646, 0.50392)>\n",
       ">"
      ]
     },
     "execution_count": 26,
     "metadata": {},
     "output_type": "execute_result"
    }
   ],
   "source": [
    "rob.movel(t4,0.02,0.02)"
   ]
  },
  {
   "cell_type": "code",
   "execution_count": 27,
   "metadata": {},
   "outputs": [
    {
     "data": {
      "text/plain": [
       "<Transform:\n",
       "<Orientation: \n",
       "array([[-0.01907612, -0.03339492,  0.99926017],\n",
       "       [-0.52251855,  0.85242691,  0.0185128 ],\n",
       "       [-0.85241449, -0.52177882, -0.03371047]])>\n",
       "<Vector: (0.95144, -0.33620, 0.49045)>\n",
       ">"
      ]
     },
     "execution_count": 27,
     "metadata": {},
     "output_type": "execute_result"
    }
   ],
   "source": [
    "rob.movel(t5,0.02,0.02)"
   ]
  },
  {
   "cell_type": "code",
   "execution_count": 28,
   "metadata": {},
   "outputs": [
    {
     "data": {
      "text/plain": [
       "<Transform:\n",
       "<Orientation: \n",
       "array([[ 0.01255108, -0.10507067,  0.99438555],\n",
       "       [-0.49624927,  0.86269699,  0.09741958],\n",
       "       [-0.86808936, -0.49468582, -0.04131346]])>\n",
       "<Vector: (0.82273, -0.37899, 0.44094)>\n",
       ">"
      ]
     },
     "execution_count": 28,
     "metadata": {},
     "output_type": "execute_result"
    }
   ],
   "source": [
    "rob.movel(t6,0.02,0.02)"
   ]
  }
 ],
 "metadata": {
  "kernelspec": {
   "display_name": "Python 3",
   "language": "python",
   "name": "python3"
  },
  "language_info": {
   "codemirror_mode": {
    "name": "ipython",
    "version": 3
   },
   "file_extension": ".py",
   "mimetype": "text/x-python",
   "name": "python",
   "nbconvert_exporter": "python",
   "pygments_lexer": "ipython3",
   "version": "3.10.9"
  },
  "orig_nbformat": 4
 },
 "nbformat": 4,
 "nbformat_minor": 2
}
