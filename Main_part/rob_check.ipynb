{
 "cells": [
  {
   "cell_type": "code",
   "execution_count": 1,
   "metadata": {},
   "outputs": [],
   "source": [
    "import urx\n",
    "import collections\n",
    "collections.Iterable = collections.abc.Iterable"
   ]
  },
  {
   "cell_type": "code",
   "execution_count": 2,
   "metadata": {},
   "outputs": [],
   "source": [
    "rob = urx.Robot('192.168.88.139')"
   ]
  },
  {
   "cell_type": "code",
   "execution_count": 7,
   "metadata": {},
   "outputs": [],
   "source": [
    "t1 = [0.68325,-0.39991,0.49779,0.88,-4.36,1.04]\n",
    "t2 = [0.77786,-0.32756,0.43346,0.853,-4.298,1.135]\n",
    "t3 = [0.85331,-0.24825,0.43377,0.5521,-4.1533,1.4024]\n",
    "t4 = [0.90372,-0.33657,0.50376,1.0226,-4.3088,1.0112]\n",
    "t5 = [0.95154,-0.33621,0.49041,1.2527,-4.2915,1.1339]\n",
    "t6 = [0.82262,-0.37907,0.44094,1.3752,-4.3259,0.9087]"
   ]
  },
  {
   "cell_type": "code",
   "execution_count": 3,
   "metadata": {},
   "outputs": [],
   "source": [
    "t1 = [0.68325,-0.39991,0.49779,0.88,-4.36,1.04]"
   ]
  },
  {
   "cell_type": "code",
   "execution_count": 4,
   "metadata": {},
   "outputs": [
    {
     "data": {
      "text/plain": [
       "<Transform:\n",
       "<Orientation: \n",
       "array([[-0.10152437,  0.01500847,  0.99471983],\n",
       "       [-0.43580911,  0.89816632, -0.05803177],\n",
       "       [-0.89429482, -0.4393996 , -0.08464494]])>\n",
       "<Vector: (0.68319, -0.39985, 0.49791)>\n",
       ">"
      ]
     },
     "execution_count": 4,
     "metadata": {},
     "output_type": "execute_result"
    }
   ],
   "source": [
    "rob.movel(t1,0.1,0.1)"
   ]
  },
  {
   "cell_type": "code",
   "execution_count": 5,
   "metadata": {},
   "outputs": [
    {
     "data": {
      "text/plain": [
       "<Transform:\n",
       "<Orientation: \n",
       "array([[-0.14284766,  0.03442534,  0.98914581],\n",
       "       [-0.45843616,  0.88342333, -0.09695101],\n",
       "       [-0.87717207, -0.46730943, -0.11041314]])>\n",
       "<Vector: (0.77779, -0.32759, 0.43346)>\n",
       ">"
      ]
     },
     "execution_count": 5,
     "metadata": {},
     "output_type": "execute_result"
    }
   ],
   "source": [
    "t2 = [0.77786,-0.32756,0.43346,0.853,-4.298,1.135]\n",
    "rob.movel(t2,0.1,0.1)"
   ]
  },
  {
   "cell_type": "code",
   "execution_count": 9,
   "metadata": {},
   "outputs": [
    {
     "data": {
      "text/plain": [
       "<Transform:\n",
       "<Orientation: \n",
       "array([[-0.10982378, -0.03016872,  0.99349312],\n",
       "       [-0.46907703,  0.88280205, -0.02504578],\n",
       "       [-0.87630216, -0.46877542, -0.11110411]])>\n",
       "<Vector: (0.90372, -0.33659, 0.50379)>\n",
       ">"
      ]
     },
     "execution_count": 9,
     "metadata": {},
     "output_type": "execute_result"
    },
    {
     "name": "stderr",
     "output_type": "stream",
     "text": [
      "Robot not running: {'size': 47, 'type': 0, 'timestamp': 4648760000, 'isPhysicalRobotConnected': True, 'isRealRobotEnabled': True, 'isPowerOnRobot': True, 'isEmergencyStopped': False, 'isSecurityStopped': False, 'isProgramRunning': False, 'isProgramPaused': False, 'robotMode': 4, 'controlMode': 0, 'speedFraction': 0.15, 'speedScaling': 0.0, 'speedFractionLimit': 63}\n"
     ]
    }
   ],
   "source": [
    "rob.movel(t4,0.1,0.1)"
   ]
  }
 ],
 "metadata": {
  "kernelspec": {
   "display_name": "Python 3",
   "language": "python",
   "name": "python3"
  },
  "language_info": {
   "codemirror_mode": {
    "name": "ipython",
    "version": 3
   },
   "file_extension": ".py",
   "mimetype": "text/x-python",
   "name": "python",
   "nbconvert_exporter": "python",
   "pygments_lexer": "ipython3",
   "version": "3.10.9"
  },
  "orig_nbformat": 4
 },
 "nbformat": 4,
 "nbformat_minor": 2
}
